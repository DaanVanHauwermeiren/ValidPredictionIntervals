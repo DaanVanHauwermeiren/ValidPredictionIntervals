{
 "cells": [
  {
   "cell_type": "markdown",
   "id": "0639db19",
   "metadata": {},
   "source": [
    "This notebook contains some code to show how to run the Python files containing the model code."
   ]
  },
  {
   "cell_type": "code",
   "execution_count": 2,
   "id": "855adc27",
   "metadata": {},
   "outputs": [],
   "source": [
    "import math, os\n",
    "\n",
    "from src.Data import *\n",
    "from src.Load import *\n",
    "from src.CP import *\n",
    "from src.QualityMeasures import *\n",
    "\n",
    "import numpy as np\n",
    "from tqdm.notebook import tqdm"
   ]
  },
  {
   "cell_type": "code",
   "execution_count": 3,
   "id": "6a0f4d55",
   "metadata": {},
   "outputs": [],
   "source": [
    "data = \"residential\""
   ]
  },
  {
   "cell_type": "code",
   "execution_count": 4,
   "id": "eefd1d32",
   "metadata": {},
   "outputs": [],
   "source": [
    "def summary(data, model, CP = True, folder = FOLDER):\n",
    "    folder = FOLDER + \"/\" + data + \"/results/\"\n",
    "    files = os.listdir(folder)\n",
    "    cp = \"-CP-\" if CP else \"\"\n",
    "    filtered = [file for file in files if (model+cp in file)]\n",
    "    \n",
    "    data = np.zeros((len(filtered), 3))\n",
    "    \n",
    "    for i, f in enumerate(filtered):\n",
    "        with open(folder + f, \"r\") as file:\n",
    "            parts = file.read().splitlines()[0].split(\"\\t\")\n",
    "            data[i, 0] = float(parts[0])\n",
    "            data[i, 1] = float(parts[1])\n",
    "            data[i, 2] = float(parts[2])\n",
    "            \n",
    "    return {\"cov\": np.mean(data[:, 0]), \"width\": np.mean(data[:, 1]), \"r2\": np.mean(data[:, 2]), \\\n",
    "           \"cov_std\": np.std(data[:, 0]), \"width_std\": np.std(data[:, 1]), \"r2_std\": np.std(data[:, 2])}"
   ]
  },
  {
   "cell_type": "code",
   "execution_count": 7,
   "id": "718ad8db",
   "metadata": {},
   "outputs": [
    {
     "ename": "ModuleNotFoundError",
     "evalue": "No module named 'Code.CP'",
     "output_type": "error",
     "traceback": [
      "\u001b[0;31m---------------------------------------------------------------------------\u001b[0m",
      "\u001b[0;31mModuleNotFoundError\u001b[0m                       Traceback (most recent call last)",
      "Cell \u001b[0;32mIn[7], line 1\u001b[0m\n\u001b[0;32m----> 1\u001b[0m \u001b[39mimport\u001b[39;00m \u001b[39mCode\u001b[39;00m\u001b[39m.\u001b[39;00m\u001b[39mRunNNCP\u001b[39;00m \u001b[39mas\u001b[39;00m \u001b[39mNN\u001b[39;00m\n\u001b[1;32m      3\u001b[0m \u001b[39mfor\u001b[39;00m s \u001b[39min\u001b[39;00m tqdm(SEEDS):\n\u001b[1;32m      4\u001b[0m     NN\u001b[39m.\u001b[39mrun(data, s)\n",
      "File \u001b[0;32m~/Documents/github_downloads/ValidPredictionIntervals/Code/RunNNCP.py:4\u001b[0m\n\u001b[1;32m      1\u001b[0m \u001b[39mimport\u001b[39;00m \u001b[39mcopy\u001b[39;00m\u001b[39m,\u001b[39m \u001b[39msys\u001b[39;00m\n\u001b[1;32m      2\u001b[0m \u001b[39mimport\u001b[39;00m \u001b[39mnumpy\u001b[39;00m \u001b[39mas\u001b[39;00m \u001b[39mnp\u001b[39;00m\n\u001b[0;32m----> 4\u001b[0m \u001b[39mfrom\u001b[39;00m \u001b[39mCode\u001b[39;00m\u001b[39m.\u001b[39;00m\u001b[39mCP\u001b[39;00m \u001b[39mimport\u001b[39;00m \u001b[39m*\u001b[39m\n\u001b[1;32m      5\u001b[0m \u001b[39mfrom\u001b[39;00m \u001b[39mCode\u001b[39;00m\u001b[39m.\u001b[39;00m\u001b[39mData\u001b[39;00m \u001b[39mimport\u001b[39;00m \u001b[39m*\u001b[39m\n\u001b[1;32m      6\u001b[0m \u001b[39mfrom\u001b[39;00m \u001b[39mCode\u001b[39;00m\u001b[39m.\u001b[39;00m\u001b[39mLoad\u001b[39;00m \u001b[39mimport\u001b[39;00m \u001b[39m*\u001b[39m\n",
      "\u001b[0;31mModuleNotFoundError\u001b[0m: No module named 'Code.CP'"
     ]
    }
   ],
   "source": [
    "import Code.RunNNCP as NN\n",
    "\n",
    "for s in tqdm(SEEDS):\n",
    "    NN.run(data, s)\n",
    "    \n",
    "summary(data, \"NN\")"
   ]
  },
  {
   "cell_type": "code",
   "execution_count": null,
   "id": "d32cbeae",
   "metadata": {},
   "outputs": [],
   "source": [
    "import Code.RunKG as KG\n",
    "\n",
    "for s in tqdm(SEEDS):\n",
    "    KG.run(data, s, num = 50, drop = np.arange(0.05, 0.55, 0.05), l = 0)\n",
    "    \n",
    "summary(data, \"KG\")"
   ]
  },
  {
   "cell_type": "code",
   "execution_count": null,
   "id": "a1a6f458",
   "metadata": {
    "scrolled": false
   },
   "outputs": [],
   "source": [
    "import Code.RunQR as QR\n",
    "\n",
    "for s in tqdm(SEEDS):\n",
    "    QR.run(data, s)\n",
    "    \n",
    "summary(data, \"QR\")"
   ]
  },
  {
   "cell_type": "code",
   "execution_count": null,
   "id": "6710ec13",
   "metadata": {},
   "outputs": [],
   "source": []
  }
 ],
 "metadata": {
  "kernelspec": {
   "display_name": ".venv",
   "language": "python",
   "name": "python3"
  },
  "language_info": {
   "codemirror_mode": {
    "name": "ipython",
    "version": 3
   },
   "file_extension": ".py",
   "mimetype": "text/x-python",
   "name": "python",
   "nbconvert_exporter": "python",
   "pygments_lexer": "ipython3",
   "version": "3.10.9"
  },
  "vscode": {
   "interpreter": {
    "hash": "10888dffee4e50d0dbb954dfad870596085de4ebe02530435b248c788ce5b2cd"
   }
  }
 },
 "nbformat": 4,
 "nbformat_minor": 5
}
