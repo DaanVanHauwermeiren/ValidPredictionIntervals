{
 "cells": [
  {
   "cell_type": "markdown",
   "id": "0639db19",
   "metadata": {},
   "source": [
    "This notebook contains some code to show how to run the Python files containing the model code."
   ]
  },
  {
   "cell_type": "code",
   "execution_count": null,
   "id": "855adc27",
   "metadata": {},
   "outputs": [],
   "source": [
    "import math, os\n",
    "\n",
    "from Code.Data import *\n",
    "from Code.Load import *\n",
    "from Code.CP import *\n",
    "from Code.QualityMeasures import *\n",
    "\n",
    "import numpy as np\n",
    "from tqdm.notebook import tqdm"
   ]
  },
  {
   "cell_type": "code",
   "execution_count": null,
   "id": "6a0f4d55",
   "metadata": {},
   "outputs": [],
   "source": [
    "data = \"turbine\""
   ]
  },
  {
   "cell_type": "code",
   "execution_count": null,
   "id": "eefd1d32",
   "metadata": {},
   "outputs": [],
   "source": [
    "def summary(data, model, CP = True, folder = FOLDER):\n",
    "    folder = FOLDER + \"/\" + data + \"/results/\"\n",
    "    files = os.listdir(folder)\n",
    "    cp = \"-CP-\" if CP else \"\"\n",
    "    filtered = [file for file in files if (model+cp in file)]\n",
    "    \n",
    "    data = np.zeros((len(filtered), 3))\n",
    "    \n",
    "    for i, f in enumerate(filtered):\n",
    "        with open(folder + f, \"r\") as file:\n",
    "            parts = file.read().splitlines()[0].split(\"\\t\")\n",
    "            data[i, 0] = float(parts[0])\n",
    "            data[i, 1] = float(parts[1])\n",
    "            data[i, 2] = float(parts[2])\n",
    "            \n",
    "    return {\"cov\": np.mean(data[:, 0]), \"width\": np.mean(data[:, 1]), \"r2\": np.mean(data[:, 2]), \\\n",
    "           \"cov_std\": np.std(data[:, 0]), \"width_std\": np.std(data[:, 1]), \"r2_std\": np.std(data[:, 2])}"
   ]
  },
  {
   "cell_type": "code",
   "execution_count": null,
   "id": "718ad8db",
   "metadata": {},
   "outputs": [],
   "source": [
    "import Code.RunNNCP as NN\n",
    "\n",
    "for s in tqdm(SEEDS):\n",
    "    NN.run(data, s)\n",
    "    \n",
    "summary(data, \"NN\")"
   ]
  },
  {
   "cell_type": "code",
   "execution_count": null,
   "id": "b68a519a",
   "metadata": {},
   "outputs": [],
   "source": [
    "import Code.RunRFCP as RF\n",
    "\n",
    "for s in tqdm(SEEDS):\n",
    "    RF.run(data, s)\n",
    "    \n",
    "summary(data, \"RF\")"
   ]
  },
  {
   "cell_type": "code",
   "execution_count": null,
   "id": "408ce349",
   "metadata": {},
   "outputs": [],
   "source": [
    "import Code.RunDropout as Drop\n",
    "\n",
    "for s in tqdm(SEEDS):\n",
    "    Drop.run(data, s, num = 50, drop = np.arange(0.05, 0.55, 0.05), l = 0)\n",
    "    \n",
    "summary(data, \"Dropout\")"
   ]
  },
  {
   "cell_type": "code",
   "execution_count": null,
   "id": "d32cbeae",
   "metadata": {},
   "outputs": [],
   "source": [
    "import Code.RunKG as KG\n",
    "\n",
    "for s in tqdm(SEEDS):\n",
    "    KG.run(data, s, num = 50, drop = np.arange(0.05, 0.55, 0.05), l = 0)\n",
    "    \n",
    "summary(data, \"KG\")"
   ]
  },
  {
   "cell_type": "code",
   "execution_count": null,
   "id": "6781deff",
   "metadata": {},
   "outputs": [],
   "source": [
    "import Code.RunDE as DE\n",
    "\n",
    "for s in tqdm(SEEDS):\n",
    "    DE.run(data, s, num = 5, drop = 0)\n",
    "    \n",
    "summary(data, \"DE\")"
   ]
  },
  {
   "cell_type": "code",
   "execution_count": null,
   "id": "a1a6f458",
   "metadata": {
    "scrolled": false
   },
   "outputs": [],
   "source": [
    "import Code.RunQR as QR\n",
    "\n",
    "for s in tqdm(SEEDS):\n",
    "    QR.run(data, s)\n",
    "    \n",
    "summary(data, \"QR\")"
   ]
  },
  {
   "cell_type": "code",
   "execution_count": null,
   "id": "a6e9b2ea",
   "metadata": {},
   "outputs": [],
   "source": [
    "import Code.RunGP as GP\n",
    "\n",
    "for s in tqdm(SEEDS):\n",
    "    GP.run(data, s, learning_rate = 0.1, epochs = 50)\n",
    "\n",
    "summary(data, \"GP\")"
   ]
  },
  {
   "cell_type": "code",
   "execution_count": null,
   "id": "c586d9e5",
   "metadata": {},
   "outputs": [],
   "source": [
    "import Code.RunSVGP as AGP\n",
    "\n",
    "for s in tqdm(SEEDS):\n",
    "    AGP.run(data, s, learning_rate = 0.01, epochs = 50)\n",
    "    \n",
    "summary(data, \"AGP\")"
   ]
  },
  {
   "cell_type": "code",
   "execution_count": null,
   "id": "6710ec13",
   "metadata": {},
   "outputs": [],
   "source": []
  }
 ],
 "metadata": {
  "kernelspec": {
   "display_name": "Python [conda env:ML] *",
   "language": "python",
   "name": "conda-env-ML-py"
  },
  "language_info": {
   "codemirror_mode": {
    "name": "ipython",
    "version": 3
   },
   "file_extension": ".py",
   "mimetype": "text/x-python",
   "name": "python",
   "nbconvert_exporter": "python",
   "pygments_lexer": "ipython3",
   "version": "3.7.11"
  }
 },
 "nbformat": 4,
 "nbformat_minor": 5
}
