{
 "cells": [
  {
   "cell_type": "markdown",
   "id": "f482514a",
   "metadata": {},
   "source": [
    "This notebook contains some code to show how to run the Python files containing the model code."
   ]
  },
  {
   "cell_type": "code",
   "execution_count": 1,
   "id": "40194ddb",
   "metadata": {},
   "outputs": [],
   "source": [
    "import math, os\n",
    "\n",
    "from Code.Data import *\n",
    "from Code.Load import *\n",
    "from Code.CP import *\n",
    "from Code.QualityMeasures import *\n",
    "\n",
    "import numpy as np\n",
    "from tqdm.notebook import tqdm"
   ]
  },
  {
   "cell_type": "code",
   "execution_count": 2,
   "id": "afcda840",
   "metadata": {},
   "outputs": [],
   "source": [
    "data = \"residential\""
   ]
  },
  {
   "cell_type": "code",
   "execution_count": 3,
   "id": "d408ec76",
   "metadata": {},
   "outputs": [],
   "source": [
    "def summary(data, model, CP = True, folder = FOLDER):\n",
    "    folder = FOLDER + \"/\" + data + \"/results/\"\n",
    "    files = os.listdir(folder)\n",
    "    cp = \"-CP-\" if CP else \"\"\n",
    "    filtered = [file for file in files if (model+cp in file)]\n",
    "    \n",
    "    data = np.zeros((len(filtered), 3))\n",
    "    \n",
    "    for i, f in enumerate(filtered):\n",
    "        with open(folder + f, \"r\") as file:\n",
    "            parts = file.read().splitlines()[0].split(\"\\t\")\n",
    "            data[i, 0] = float(parts[0])\n",
    "            data[i, 1] = float(parts[1])\n",
    "            data[i, 2] = float(parts[2])\n",
    "            \n",
    "    return {\"cov\": np.mean(data[:, 0]), \"width\": np.mean(data[:, 1]), \"r2\": np.mean(data[:, 2]), \\\n",
    "           \"cov_std\": np.std(data[:, 0]), \"width_std\": np.std(data[:, 1]), \"r2_std\": np.std(data[:, 2])}"
   ]
  },
  {
   "cell_type": "code",
   "execution_count": 4,
   "id": "bee03dd3",
   "metadata": {},
   "outputs": [
    {
     "data": {
      "application/vnd.jupyter.widget-view+json": {
       "model_id": "8128d0fba948403ca4492489d4789410",
       "version_major": 2,
       "version_minor": 0
      },
      "text/plain": [
       "  0%|          | 0/50 [00:00<?, ?it/s]"
      ]
     },
     "metadata": {},
     "output_type": "display_data"
    },
    {
     "data": {
      "text/plain": [
       "{'cov': 0.9079999999999999,\n",
       " 'width': 0.9056779632,\n",
       " 'r2': 0.9048712993550034,\n",
       " 'cov_std': 0.04643753271271466,\n",
       " 'width_std': 0.21845542104080634,\n",
       " 'r2_std': 0.049514419759247356}"
      ]
     },
     "execution_count": 4,
     "metadata": {},
     "output_type": "execute_result"
    }
   ],
   "source": [
    "import Code.RunNNCP as NN\n",
    "\n",
    "for s in tqdm(SEEDS):\n",
    "    NN.run(data, s)\n",
    "    \n",
    "summary(data, \"NN\")"
   ]
  },
  {
   "cell_type": "code",
   "execution_count": 5,
   "id": "0d6f9f79",
   "metadata": {},
   "outputs": [
    {
     "data": {
      "application/vnd.jupyter.widget-view+json": {
       "model_id": "3b774f4270ff4085b5322d6825e5c710",
       "version_major": 2,
       "version_minor": 0
      },
      "text/plain": [
       "  0%|          | 0/50 [00:00<?, ?it/s]"
      ]
     },
     "metadata": {},
     "output_type": "display_data"
    },
    {
     "data": {
      "text/plain": [
       "{'cov': 0.8933333333333331,\n",
       " 'width': 0.70241830013543,\n",
       " 'r2': 0.922537051582105,\n",
       " 'cov_std': 0.04866210024238575,\n",
       " 'width_std': 0.13960731639180107,\n",
       " 'r2_std': 0.03272888216455605}"
      ]
     },
     "execution_count": 5,
     "metadata": {},
     "output_type": "execute_result"
    }
   ],
   "source": [
    "import Code.RunRFCP as RF\n",
    "\n",
    "for s in tqdm(SEEDS):\n",
    "    RF.run(data, s)\n",
    "    \n",
    "summary(data, \"RF\")"
   ]
  },
  {
   "cell_type": "code",
   "execution_count": 6,
   "id": "4706d562",
   "metadata": {},
   "outputs": [
    {
     "data": {
      "application/vnd.jupyter.widget-view+json": {
       "model_id": "6dde5f98fab14e01bbe1c1f342f44d59",
       "version_major": 2,
       "version_minor": 0
      },
      "text/plain": [
       "  0%|          | 0/50 [00:00<?, ?it/s]"
      ]
     },
     "metadata": {},
     "output_type": "display_data"
    },
    {
     "data": {
      "text/plain": [
       "{'cov': 0.9008000000000002,\n",
       " 'width': 0.9242585380964167,\n",
       " 'r2': 0.8961015631331557,\n",
       " 'cov_std': 0.04301193632779936,\n",
       " 'width_std': 0.16939045264018196,\n",
       " 'r2_std': 0.051641656606872754}"
      ]
     },
     "execution_count": 6,
     "metadata": {},
     "output_type": "execute_result"
    }
   ],
   "source": [
    "import Code.RunDropout as Drop\n",
    "\n",
    "for s in tqdm(SEEDS):\n",
    "    Drop.run(data, s, num = 50, drop = np.arange(0.05, 0.55, 0.05), l = 0)\n",
    "    \n",
    "summary(data, \"Dropout\")"
   ]
  },
  {
   "cell_type": "code",
   "execution_count": 7,
   "id": "2632d45a",
   "metadata": {},
   "outputs": [
    {
     "data": {
      "application/vnd.jupyter.widget-view+json": {
       "model_id": "490e84cc7f884004ad0dfaf4bd202060",
       "version_major": 2,
       "version_minor": 0
      },
      "text/plain": [
       "  0%|          | 0/50 [00:00<?, ?it/s]"
      ]
     },
     "metadata": {},
     "output_type": "display_data"
    },
    {
     "data": {
      "text/plain": [
       "{'cov': 0.9048,\n",
       " 'width': 0.7027188658593033,\n",
       " 'r2': 0.932814930490126,\n",
       " 'cov_std': 0.041825882470600005,\n",
       " 'width_std': 0.1326416223991968,\n",
       " 'r2_std': 0.03199325342906429}"
      ]
     },
     "execution_count": 7,
     "metadata": {},
     "output_type": "execute_result"
    }
   ],
   "source": [
    "import Code.RunKG as KG\n",
    "\n",
    "for s in tqdm(SEEDS):\n",
    "    KG.run(data, s, num = 50, drop = np.arange(0.05, 0.55, 0.05), l = 0)\n",
    "    \n",
    "summary(data, \"KG\")"
   ]
  },
  {
   "cell_type": "code",
   "execution_count": 8,
   "id": "feebaa51",
   "metadata": {},
   "outputs": [
    {
     "data": {
      "application/vnd.jupyter.widget-view+json": {
       "model_id": "ee4e13c1b8d8456a8fe890f3c52c42f2",
       "version_major": 2,
       "version_minor": 0
      },
      "text/plain": [
       "  0%|          | 0/50 [00:00<?, ?it/s]"
      ]
     },
     "metadata": {},
     "output_type": "display_data"
    },
    {
     "data": {
      "text/plain": [
       "{'cov': 0.9104000000000001,\n",
       " 'width': 0.8224747525792108,\n",
       " 'r2': 0.9028515348578716,\n",
       " 'cov_std': 0.032989156467609845,\n",
       " 'width_std': 0.3044602545752964,\n",
       " 'r2_std': 0.07652361835704996}"
      ]
     },
     "execution_count": 8,
     "metadata": {},
     "output_type": "execute_result"
    }
   ],
   "source": [
    "import Code.RunDE as DE\n",
    "\n",
    "for s in tqdm(SEEDS):\n",
    "    DE.run(data, s, num = 5, drop = 0)\n",
    "    \n",
    "summary(data, \"DE\")"
   ]
  },
  {
   "cell_type": "code",
   "execution_count": 9,
   "id": "f2c94bff",
   "metadata": {
    "scrolled": false
   },
   "outputs": [
    {
     "data": {
      "application/vnd.jupyter.widget-view+json": {
       "model_id": "dea8d84b251347318204495b9622a8e3",
       "version_major": 2,
       "version_minor": 0
      },
      "text/plain": [
       "  0%|          | 0/50 [00:00<?, ?it/s]"
      ]
     },
     "metadata": {},
     "output_type": "display_data"
    },
    {
     "data": {
      "text/plain": [
       "{'cov': 0.9079999999999999,\n",
       " 'width': 0.858678389,\n",
       " 'r2': 0.9178291127827555,\n",
       " 'cov_std': 0.04424176006143215,\n",
       " 'width_std': 0.1681320877292204,\n",
       " 'r2_std': 0.05255667591025171}"
      ]
     },
     "execution_count": 9,
     "metadata": {},
     "output_type": "execute_result"
    }
   ],
   "source": [
    "import Code.RunQR as QR\n",
    "\n",
    "for s in tqdm(SEEDS):\n",
    "    QR.run(data, s)\n",
    "    \n",
    "summary(data, \"QR\")"
   ]
  },
  {
   "cell_type": "code",
   "execution_count": 10,
   "id": "80f44fe3",
   "metadata": {},
   "outputs": [
    {
     "data": {
      "application/vnd.jupyter.widget-view+json": {
       "model_id": "eb3e3dbc56b441bbbd85f7e21cfb715f",
       "version_major": 2,
       "version_minor": 0
      },
      "text/plain": [
       "  0%|          | 0/50 [00:00<?, ?it/s]"
      ]
     },
     "metadata": {},
     "output_type": "display_data"
    },
    {
     "data": {
      "text/plain": [
       "{'cov': 0.8959999999999998,\n",
       " 'width': 2.32508633,\n",
       " 'r2': 0.21690771303946296,\n",
       " 'cov_std': 0.04474123129483337,\n",
       " 'width_std': 0.30926339817376075,\n",
       " 'r2_std': 0.07110859876654017}"
      ]
     },
     "execution_count": 10,
     "metadata": {},
     "output_type": "execute_result"
    }
   ],
   "source": [
    "import Code.RunGP as GP\n",
    "\n",
    "for s in tqdm(SEEDS):\n",
    "    GP.run(data, s, epochs = 50, learning_rate = 0.1)\n",
    "\n",
    "summary(data, \"GP\")"
   ]
  },
  {
   "cell_type": "code",
   "execution_count": null,
   "id": "cb257aa5",
   "metadata": {},
   "outputs": [
    {
     "data": {
      "application/vnd.jupyter.widget-view+json": {
       "model_id": "388a7f7c4ac947b1b638f33ccb34fa39",
       "version_major": 2,
       "version_minor": 0
      },
      "text/plain": [
       "  0%|          | 0/50 [00:00<?, ?it/s]"
      ]
     },
     "metadata": {},
     "output_type": "display_data"
    }
   ],
   "source": [
    "import Code.RunSVGP as AGP\n",
    "\n",
    "for s in tqdm(SEEDS):\n",
    "    AGP.run(data, s, learning_rate = 0.01, epochs = 50)\n",
    "    \n",
    "summary(data, \"AGP\")"
   ]
  },
  {
   "cell_type": "code",
   "execution_count": null,
   "id": "81d8a29c",
   "metadata": {},
   "outputs": [],
   "source": []
  }
 ],
 "metadata": {
  "kernelspec": {
   "display_name": "Python [conda env:ML] *",
   "language": "python",
   "name": "conda-env-ML-py"
  },
  "language_info": {
   "codemirror_mode": {
    "name": "ipython",
    "version": 3
   },
   "file_extension": ".py",
   "mimetype": "text/x-python",
   "name": "python",
   "nbconvert_exporter": "python",
   "pygments_lexer": "ipython3",
   "version": "3.7.11"
  }
 },
 "nbformat": 4,
 "nbformat_minor": 5
}
